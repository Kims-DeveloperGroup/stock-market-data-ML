{
 "cells": [
  {
   "cell_type": "code",
   "execution_count": null,
   "metadata": {},
   "outputs": [],
   "source": [
    "import tensorflow as tf\n",
    "import FinanceDataReader as fdr\n",
    "import csv\n",
    "import numpy as np\n",
    "from tensorflow.contrib import rnn\n",
    "import matplotlib\n",
    "import os\n",
    "import matplotlib.pyplot as plt\n",
    "fdr.__version__"
   ]
  },
  {
   "cell_type": "code",
   "execution_count": null,
   "metadata": {},
   "outputs": [],
   "source": [
    "def write_file(data_list, file_name):\n",
    "    with open(file_name,'w', newline='') as f:\n",
    "        data_list = np.array(data_list)\n",
    "        writer = csv.writer(f)\n",
    "        writer.writerows(data_list)\n",
    "    return\n",
    "\n",
    "def MinMaxScaler(data):\n",
    "    numerator = data - np.min(data, 0)\n",
    "    denominator = np.max(data, 0) - np.min(data, 0)\n",
    "    # noise term prevents the zero division\n",
    "    return numerator / (denominator + 1e-7)\n",
    "\n",
    "def extract_x_and_y(data, sequence_length):\n",
    "    data_x = []\n",
    "    data_y = []\n",
    "    for i in range(0, len(data) - sequence_length):\n",
    "        x = data[i:i + sequence_length]\n",
    "        y = data[i + sequence_length, [-1]]\n",
    "        data_x.append(x)\n",
    "        data_y.append(y)\n",
    "    return np.array(data_x), np.array(data_y)\n",
    "\n",
    "# Make a lstm cell with hidden_size (each unit output vector size)\n",
    "def lstm_cell(hidden_size):\n",
    "    cell = rnn.BasicLSTMCell(hidden_size, state_is_tuple=True)\n",
    "    return cell"
   ]
  },
  {
   "cell_type": "code",
   "execution_count": null,
   "metadata": {},
   "outputs": [],
   "source": [
    "# country code: ex) 000150: Doosan(KR), Yihua Healthcare(CN)\n",
    "data = np.array(fdr.DataReader('000150', '2017-01-01', '2017-12-31'))\n",
    "data = MinMaxScaler(data[:, 1:-1]) #시작가격, 최고가, 최적가, 종가, 거래량\n",
    "print(\"shape:\", data.shape, \"\\n\", \"data[0]: \", data[0])\n",
    "\n",
    "test_data = np.array(fdr.DataReader('000150', '2018-01-01', '2018-12-29'))\n",
    "test_data = MinMaxScaler(test_data[:, 1:-1]) #시작가격, 최고가, 최적가, 종가, 거래량"
   ]
  },
  {
   "cell_type": "code",
   "execution_count": null,
   "metadata": {},
   "outputs": [],
   "source": [
    "data_dim = 5\n",
    "hidden_dim = 10\n",
    "num_classes = 1\n",
    "sequence_length = 5\n",
    "\n",
    "data_x, data_y = extract_x_and_y(data, sequence_length)\n",
    "test_data_x, test_data_y = extract_x_and_y(test_data, sequence_length)\n",
    "\n",
    "batch_size = None\n",
    "learning_rate = 0.005"
   ]
  },
  {
   "cell_type": "code",
   "execution_count": null,
   "metadata": {},
   "outputs": [],
   "source": [
    "#이전 예제에서는 x y 를 one hot encoding으로 변환해서 사용했는데  \n",
    "# 지금 예제에서는 어떻게 사용할 것인가.\n",
    "# X = [0.2322834645664719 0.23285198555914646 0.2284569138271975\n",
    "# 0.2538759689917561 0.052436875076320326]   -> [1] 다음날 가격 오름  [0] 다음날 가격 떨어짐 y를 [?, 1] shape으로 변환해서 만들어야 할듯"
   ]
  },
  {
   "cell_type": "code",
   "execution_count": null,
   "metadata": {},
   "outputs": [],
   "source": [
    "X = tf.placeholder(tf.float32, [batch_size, sequence_length, data_dim])\n",
    "Y = tf.placeholder(tf.float32, [batch_size, num_classes])\n",
    "print(\"shape of X: \", X)\n",
    "print(\"shape of Y: \", Y)"
   ]
  },
  {
   "cell_type": "code",
   "execution_count": null,
   "metadata": {},
   "outputs": [],
   "source": [
    "cell = rnn.MultiRNNCell([lstm_cell(hidden_dim) for _ in range(2)], state_is_tuple=True)\n",
    "# cell = tf.contrib.rnn.BasicLSTMCell(num_units=hidden_dim, state_is_tuple=True, activation=tf.tanh)"
   ]
  },
  {
   "cell_type": "code",
   "execution_count": null,
   "metadata": {},
   "outputs": [],
   "source": [
    "# outputs: unfolding size x hidden size, state = hidden size\n",
    "outputs, _states = tf.nn.dynamic_rnn(cell, X, dtype=tf.float32)\n",
    "print(outputs)\n",
    "\n",
    "# FC layer\n",
    "X_for_fc = tf.reshape(outputs, [-1, hidden_dim])\n",
    "outputs = tf.contrib.layers.fully_connected(X_for_fc, num_classes, activation_fn=None)\n",
    "\n",
    "# reshape out for sequence_loss\n",
    "outputs = tf.reshape(outputs, [-1, sequence_length, num_classes])\n",
    "\n",
    "# We use the last cell's output\n",
    "Y_pred = tf.contrib.layers.fully_connected(outputs[:, -1], num_classes, activation_fn=None)\n",
    "\n",
    "loss = tf.reduce_sum(tf.square(Y_pred - Y))\n",
    "train_op = tf.train.AdamOptimizer(learning_rate=learning_rate).minimize(loss)"
   ]
  },
  {
   "cell_type": "code",
   "execution_count": null,
   "metadata": {},
   "outputs": [],
   "source": [
    "# RMSE\n",
    "expected_results = tf.placeholder(tf.float32, [batch_size, 1])\n",
    "predictions = tf.placeholder(tf.float32, [batch_size, 1])\n",
    "rmse = tf.sqrt(tf.reduce_mean(tf.square(expected_results - predictions)))"
   ]
  },
  {
   "cell_type": "code",
   "execution_count": null,
   "metadata": {},
   "outputs": [],
   "source": [
    "sess = tf.Session()\n",
    "sess.run(tf.global_variables_initializer())\n",
    "for i in range(10000):\n",
    "    _, step_loss = sess.run([train_op, loss], feed_dict={X: data_x, Y: data_y})\n",
    "    if i % 1000 == 0:\n",
    "        print(\"[step: {}] loss: {}\".format(i, step_loss))"
   ]
  },
  {
   "cell_type": "code",
   "execution_count": null,
   "metadata": {},
   "outputs": [],
   "source": [
    "#Compare tarining x and y\n",
    "predict = sess.run(Y_pred, feed_dict={X: data_x})\n",
    "rmse_val = sess.run(rmse, feed_dict={expected_results: data_y, predictions: predict})\n",
    "print(\"RMSE: {}\".format(rmse_val))\n",
    "\n",
    "# Plot predictions\n",
    "plt.plot(data_y)\n",
    "plt.plot(predict)\n",
    "plt.xlabel(\"Time Period\")\n",
    "plt.ylabel(\"Stock Price\")\n",
    "plt.show()"
   ]
  },
  {
   "cell_type": "code",
   "execution_count": null,
   "metadata": {},
   "outputs": [],
   "source": [
    "# Test step\n",
    "test_predict = sess.run(Y_pred, feed_dict={X: test_data_x})\n",
    "rmse_val = sess.run(rmse, feed_dict={expected_results: test_data_y, predictions: test_predict})\n",
    "print(\"RMSE: {}\".format(rmse_val))\n",
    "\n",
    "# Plot predictions\n",
    "plt.plot(test_data_y)\n",
    "plt.plot(test_predict)\n",
    "plt.xlabel(\"Time Period\")\n",
    "plt.ylabel(\"Stock Price\")\n",
    "plt.show()"
   ]
  }
 ],
 "metadata": {
  "kernelspec": {
   "display_name": "Python 3",
   "language": "python",
   "name": "python3"
  },
  "language_info": {
   "codemirror_mode": {
    "name": "ipython",
    "version": 3
   },
   "file_extension": ".py",
   "mimetype": "text/x-python",
   "name": "python",
   "nbconvert_exporter": "python",
   "pygments_lexer": "ipython3",
   "version": "3.6.5"
  }
 },
 "nbformat": 4,
 "nbformat_minor": 2
}
